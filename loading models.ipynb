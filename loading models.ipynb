{
 "cells": [
  {
   "cell_type": "code",
   "execution_count": 2,
   "metadata": {},
   "outputs": [],
   "source": [
    "import matplotlib.pyplot as plt\n",
    "from sklearn.metrics import confusion_matrix\n",
    "import numpy as np\n",
    "import pandas as pd\n",
    "from sklearn.model_selection import train_test_split\n",
    "from sklearn.feature_extraction.text import TfidfVectorizer\n",
    "from sklearn.linear_model import LogisticRegression\n",
    "from sklearn.metrics import roc_curve, roc_auc_score\n",
    "from sklearn.preprocessing import MultiLabelBinarizer\n",
    "from sklearn.multiclass import OneVsRestClassifier\n",
    "import nltk\n",
    "from nltk import WordNetLemmatizer\n",
    "from nltk import pos_tag, word_tokenize\n",
    "from nltk.corpus import stopwords as nltk_stopwords\n",
    "from nltk.corpus import wordnet\n",
    "import re\n",
    "import pickle\n",
    "import itertools\n",
    "from sklearn.naive_bayes import MultinomialNB\n",
    "from sklearn.ensemble import RandomForestClassifier\n",
    "from sklearn.svm import SVC\n",
    "from sklearn.tree import DecisionTreeClassifier\n",
    "from sklearn.neighbors import KNeighborsClassifier\n",
    "from sklearn.multioutput import MultiOutputClassifier\n",
    "from sklearn.linear_model import LogisticRegression\n",
    "import seaborn as sns"
   ]
  },
  {
   "cell_type": "code",
   "execution_count": 4,
   "metadata": {},
   "outputs": [],
   "source": [
    "def prepare_text(text):\n",
    "    def get_wordnet_pos(treebank_tag):\n",
    "        mapping = {'J': wordnet.ADJ, 'V': wordnet.VERB, 'N': wordnet.NOUN, 'R': wordnet.ADV}\n",
    "        return mapping.get(treebank_tag[0], wordnet.NOUN)\n",
    "    clean_text = re.sub(r'[^a-zA-Z\\']', ' ', text)\n",
    "    words = clean_text.split()\n",
    "    tokens = word_tokenize(' '.join(words))\n",
    "    pos_tags = pos_tag(tokens)\n",
    "    lemmatized_words = [WordNetLemmatizer().lemmatize(word, pos=get_wordnet_pos(tag)) for word, tag in pos_tags]\n",
    "    lemmatized_text = ' '.join(lemmatized_words)\n",
    "    return lemmatized_text"
   ]
  },
  {
   "cell_type": "code",
   "execution_count": 5,
   "metadata": {},
   "outputs": [],
   "source": [
    "def load_vectorizer():\n",
    "    with open('vectorizer.pkl', 'rb') as file:\n",
    "        vectorizer = pickle.load(file)\n",
    "    return vectorizer"
   ]
  },
  {
   "cell_type": "code",
   "execution_count": 6,
   "metadata": {},
   "outputs": [],
   "source": [
    "def load_model(model_type):\n",
    "    filename = f'{model_type}_model.pkl'\n",
    "    with open(filename, 'rb') as file:\n",
    "        model = pickle.load(file)\n",
    "    return model"
   ]
  },
  {
   "cell_type": "code",
   "execution_count": null,
   "metadata": {},
   "outputs": [],
   "source": []
  },
  {
   "cell_type": "code",
   "execution_count": null,
   "metadata": {},
   "outputs": [],
   "source": []
  },
  {
   "cell_type": "code",
   "execution_count": 18,
   "metadata": {},
   "outputs": [],
   "source": [
    "comment = \" FUCK\"\n",
    "processed_comment = prepare_text(comment)\n",
    "\n",
    "\n",
    "vectorizer = load_vectorizer()\n",
    "vectorized_comment = vectorizer.transform([processed_comment])\n",
    "\n",
    "\n",
    "predictions = {}\n",
    "model_types = ['logistic', 'random_forest', 'naive_bayes', 'decision_tree', 'knn']\n",
    "\n",
    "for model_type in model_types:\n",
    "    model = load_model(model_type)\n",
    "    if hasattr(model, \"predict_proba\"):\n",
    "        prob = model.predict_proba(vectorized_comment)[:, 1]  \n",
    "        pred = model.predict(vectorized_comment)[0]\n",
    "    else:\n",
    "        prob = None\n",
    "        pred = model.predict(vectorized_comment)[0]\n",
    "    \n",
    "    predictions[model_type] = {\n",
    "        'Predicted Class': pred,\n",
    "        'Probability': prob[0] if prob is not None else \"N/A\"\n",
    "    }"
   ]
  },
  {
   "cell_type": "code",
   "execution_count": 19,
   "metadata": {},
   "outputs": [
    {
     "name": "stdout",
     "output_type": "stream",
     "text": [
      "Model: logistic\n",
      "Predicted Class: 1\n",
      "Probability: 0.9809509828551052\n",
      "------------------------------\n",
      "Model: random_forest\n",
      "Predicted Class: 1\n",
      "Probability: 0.5030769230769231\n",
      "------------------------------\n",
      "Model: naive_bayes\n",
      "Predicted Class: 1\n",
      "Probability: 0.9180928356273294\n",
      "------------------------------\n",
      "Model: decision_tree\n",
      "Predicted Class: 0\n",
      "Probability: 0.0\n",
      "------------------------------\n",
      "Model: knn\n",
      "Predicted Class: 1\n",
      "Probability: 1.0\n",
      "------------------------------\n"
     ]
    }
   ],
   "source": [
    "for model_type, result in predictions.items():\n",
    "    print(f\"Model: {model_type}\")\n",
    "    print(f\"Predicted Class: {result['Predicted Class']}\")\n",
    "    print(f\"Probability: {result['Probability']}\")\n",
    "    print('-' * 30)"
   ]
  }
 ],
 "metadata": {
  "kernelspec": {
   "display_name": "Python 3",
   "language": "python",
   "name": "python3"
  },
  "language_info": {
   "codemirror_mode": {
    "name": "ipython",
    "version": 3
   },
   "file_extension": ".py",
   "mimetype": "text/x-python",
   "name": "python",
   "nbconvert_exporter": "python",
   "pygments_lexer": "ipython3",
   "version": "3.11.3"
  }
 },
 "nbformat": 4,
 "nbformat_minor": 2
}
